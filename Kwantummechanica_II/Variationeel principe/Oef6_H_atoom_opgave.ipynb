{
 "cells": [
  {
   "cell_type": "markdown",
   "metadata": {},
   "source": [
    "$$\n",
    "\\newcommand{\\vect}[1]{\\boldsymbol{#1}}\n",
    "\\newcommand{\\Nabla}{\\vect{\\nabla}}\n",
    "\\renewcommand{\\d}[1]{\\mathrm{d} #1 \\,}\n",
    "\\newcommand{\\dern}[3]{\\frac{\\mathrm{d}^{#3} #1}{\\mathrm{d} #2^{#3}}}\n",
    "\\newcommand{\\bra}[1]{\\left\\langle{#1}\\right|}\n",
    "\\newcommand{\\ket}[1]{\\left|{#1}\\right\\rangle}\n",
    "\\newcommand{\\braket}[1]{\\left\\langle{#1}\\right\\rangle}\n",
    "$$\n",
    "\n",
    "# Variationeel principe: H-atoom\n",
    "\n",
    "## Opgave\n",
    "\n",
    "Om de grondtoestand van het waterstofatoom te bepalen via het lineair variationeel principe, kan men gebruik maken van Gaussische basisfuncties. Deze functies worden in atomaire en moleculaire fysica vaak gebruikt als basisfuncties, omdat de resulterende integralen analytisch uit te rekenen zijn. Voor de grondtoestand van het waterstofatoom zijn enkel functies met een orbitaal draaimoment $\\ell = 0$ vereist, zodat we een variationele golffunctie van de vorm\n",
    "\\begin{equation}\n",
    "    \\psi(\\vect{r}) = \\sum_{n=0}^{N-1} C_n \\, e^{-\\alpha_n r^2}\n",
    "\\end{equation}\n",
    "\t\n",
    "kunnen gebruiken. Om zowel de parameters $C_n$ als $\\alpha_n$ te bepalen dient echter een niet-lineair variationeel probleem opgelost te worden, zodat we gebruik maken van de volgende waarden:\n",
    "\\begin{equation}\n",
    "    \\vect{\\alpha} = [13.00773, 1.962079, 0.444529, 0.1219492].\n",
    "\\end{equation}\n",
    "\n",
    "1. Bereken de variationele grondtoestandsenergie en de bijbehorende golffunctie voor het waterstofatoom en vergelijk met het exacte resultaat. De variationele grondtoestandsenergie zou moeten gelijk zijn aan -0.499 278 Ha.\n",
    "2. Bereken de variationele grondtoestandsenergie voor verschillende waterstofachtige atomen ($Z$ = 1, 2, 3, 4, 5 $\\ldots$) en vergelijk met het exacte resultaat. Op welke eenvoudige manier kan de overeenkomst sterk verbeterd worden?"
   ]
  },
  {
   "cell_type": "markdown",
   "metadata": {},
   "source": [
    "## Oplossing\n",
    "\n",
    "Implementeer eerst een functie `calc_matrices` die de matrices $H$ en $S$ genereert, gebruik makend van de volgende matrixelementen:\n",
    "    \n",
    "\\begin{align}\n",
    "    S_{mn} & = \\int \\d{\\vect{r}} e^{-\\alpha_m r^2} e^{-\\alpha_n r^2} = \\left( \\frac{\\pi}{\\alpha_m + \\alpha_n} \\right)^{\\frac{3}{2}} \\\\\n",
    "    T_{mn} & = -\\frac{1}{2} \\int \\d{\\vect{r}} e^{-\\alpha_m r^2} \\; \\Nabla^2 e^{-\\alpha_n r^2} = \\frac{3 \\, \\alpha_m \\alpha_n \\, \\pi^{\\frac{3}{2}}}{(\\alpha_m + \\alpha_n)^{\\frac{5}{2}}} \\\\\n",
    "    V_{mn} & = - \\int \\d{\\vect{r}} e^{-\\alpha_m r^2} \\; \\frac{Z}{r} \\; e^{-\\alpha_n r^2} = - \\frac{2 \\pi \\, Z}{\\alpha_m + \\alpha_n}\n",
    "\\end{align}   "
   ]
  },
  {
   "cell_type": "code",
   "execution_count": null,
   "metadata": {},
   "outputs": [],
   "source": [
    "import numpy as np\n",
    "from scipy.linalg import eigh\n",
    "import matplotlib.pyplot as pl\n",
    "\n",
    "kjmol = 0.0003808799176039228\n",
    "electronvolt = 0.036749325919680595\n",
    "\n",
    "def calc_matrices(alpha, Z=1.):\n",
    "    # TODO"
   ]
  },
  {
   "cell_type": "markdown",
   "metadata": {},
   "source": [
    "1. Bereken vervolgens de variationele energieën en de coëfficiënten $C_n$ door het veralgemeend eigenwaardeprobleem $H C = \\varepsilon  \\, S C$ op te lossen. Hiervoor kan je gebruik maken van de functie `eigh`. Vergelijking zowel de grondtoestandsenergie als de grondtoestandsgolffunctie met het exacte resultaat."
   ]
  },
  {
   "cell_type": "code",
   "execution_count": null,
   "metadata": {},
   "outputs": [],
   "source": [
    "alpha = np.array([13.00773, 1.962079, 0.444529, 0.1219492])"
   ]
  },
  {
   "cell_type": "markdown",
   "metadata": {},
   "source": [
    "2. Bereken de variationele grondtoestandsenergie voor verschillende waterstofachtige atomen (𝑍=1,2,3,4,5…) en vergelijk met het exacte resultaat. Op welke eenvoudige manier kan de overeenkomst sterk verbeterd worden?"
   ]
  },
  {
   "cell_type": "code",
   "execution_count": null,
   "metadata": {},
   "outputs": [],
   "source": [
    "# Z-afhankelijkheid grondtoestandsenergie"
   ]
  }
 ],
 "metadata": {
  "kernelspec": {
   "display_name": "Python 3",
   "language": "python",
   "name": "python3"
  },
  "language_info": {
   "codemirror_mode": {
    "name": "ipython",
    "version": 3
   },
   "file_extension": ".py",
   "mimetype": "text/x-python",
   "name": "python",
   "nbconvert_exporter": "python",
   "pygments_lexer": "ipython3",
   "version": "3.5.2"
  }
 },
 "nbformat": 4,
 "nbformat_minor": 2
}
