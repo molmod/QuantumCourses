{
 "cells": [
  {
   "cell_type": "markdown",
   "metadata": {},
   "source": [
    "$$\n",
    "\\renewcommand{\\d}[1]{\\mathrm{d} #1 \\,}\n",
    "\\newcommand{\\dern}[3]{\\frac{\\mathrm{d}^{#3} #1}{\\mathrm{d} #2^{#3}}}\n",
    "\\newcommand{\\bra}[1]{\\left\\langle{#1}\\right|}\n",
    "\\newcommand{\\ket}[1]{\\left|{#1}\\right\\rangle}\n",
    "\\newcommand{\\braket}[1]{\\left\\langle{#1}\\right\\rangle}\n",
    "$$\n",
    "\n",
    "# Variationeel principe: oneindig diepe potentiaalput\n",
    "\n",
    "## Opgave\n",
    "\n",
    "Beschouw een deeltje in een geperturbeerde oneindig diepe potentiaalput met breedte $L$, waarvan de potentiële energie gegeven wordt door\n",
    "\t\\begin{equation}\n",
    "\t\tV(x) = \\begin{cases}\n",
    "\t\t\t\ta x^p, & - \\frac{L}{2} < x < \\frac{L}{2} \\\\\n",
    "\t\t\t\t\\infty, & |x| \\geq \\frac{L}{2}\n",
    "\t\t\t\t\\end{cases},\n",
    "\t\\end{equation}\n",
    "\t\n",
    "met $p$ een natuurlijk getal en $a L^p \\ll 2^p$ zodat de afwijking van de oneindig diepe potentiaalput klein is. Aangezien de potentiaal oneindig groot wordt op de randen van de potentiaalput, dient de golffunctie daar te verdwijnen. Als variationele golffunctie kiezen we\n",
    "\t\\begin{equation}\n",
    "\t\t\\psi(x) = \\sum_{n=0}^{N-1} C_n \\,x^n \\left( x^2 - \\frac{L^2}{4} \\right).\n",
    "\t\\end{equation}\n",
    "\t\n",
    "1.\tVergelijk voor de oneindig diepe potentiaalput ($a = 0$) de variationele energie-eigenwaarden en eigenfuncties met de exacte analytische oplossing (*vide infra*) voor verschillende waarden van $N$. Verklaar ook het convergentiegedrag als functie van $N$.\n",
    "\n",
    "2.\tVergelijk voor $p = 1$ de variationele energie-eigenwaarden en eigenfuncties met de resultaten uit Oefening 4 (geladen deeltje in 1D condensator) voor verschillende waarden van $N$.\n",
    "\n",
    "\n",
    "## Oplossing\n",
    "\n",
    "Eerst implementeren we een functie `calc_matrices` die de matrices $H$ en $S$ genereert, gebruik makend van de volgende matrixelementen:\n",
    "\\begin{align}\n",
    "    S_{mn} & = \\braket{\\chi_m | \\chi_n} = \\int_{-\\frac{L}{2}}^{\\frac{L}{2}} \\d{x} \\chi_m(x) \\, \\chi_n(x) \\nonumber \\\\\n",
    "    & = \\left( \\frac{L}{2} \\right)^{m+n+5} \\frac{16}{(m+n+5) (m+n+3) (m+n+1)} \\; \\frac{1 + (-1)^{m+n}}{2} \\\\[0.25cm]\n",
    "    T_{mn} & = \\bra{\\chi_m} \\hat{T} \\ket{\\chi_n} = - \\frac{1}{2} \\int_{-\\frac{L}{2}}^{\\frac{L}{2}} \\d{x} \\chi_m(x) \\; \\dern{}{x}{2} \\,\\chi_n(x) \\nonumber \\\\\n",
    "    & = - 4 \\left( \\frac{L}{2} \\right)^{m+n+3} \\frac{1 - m - n - 2mn}{(m+n+3) (m+n+1) (m+n-1)} \\; \\frac{1 + (-1)^{m+n}}{2} \\\\[0.25cm]\n",
    "    V_{mn} & = \\bra{\\chi_m} \\hat{V} \\ket{\\chi_n} = a \\int_{-\\frac{L}{2}}^{\\frac{L}{2}} \\d{x} \\chi_m(x) \\, x^p \\,\\chi_n(x) \\nonumber \\\\\n",
    "    & = \\left( \\frac{L}{2} \\right)^{m+n+p+5} \\frac{16a}{(m+n+p+5) (m+n+p+3) (m+n+p+1)} \\; \\frac{1 + (-1)^{m+n+p}}{2}\n",
    "\\end{align}"
   ]
  },
  {
   "cell_type": "code",
   "execution_count": null,
   "metadata": {},
   "outputs": [],
   "source": [
    "import numpy as np\n",
    "from scipy.linalg import eigh\n",
    "import matplotlib.pyplot as pl\n",
    "%matplotlib inline\n",
    "\n",
    "# Conversiefactoren atomaire eenheden\n",
    "kjmol = 0.0003808799176039228\n",
    "electronvolt = 0.036749325919680595\n",
    "\n",
    "def calc_matrices(N=5, L=1., a=0., p=0):\n",
    "    \n",
    "    n = np.arange(0, N)\n",
    "    nplusm = n + np.expand_dims(n, axis=1)\n",
    "\n",
    "    S = (0.5*L)**(nplusm + 5) * 8/((nplusm + 5)*(nplusm + 3)*(nplusm + 1))\n",
    "    S *= (-1)**nplusm + 1\n",
    "    T = -2 * (0.5*L)**(nplusm + 3) * (1 - nplusm - 2*n*np.expand_dims(n, axis=1))/((nplusm + 3)*(nplusm + 1))\n",
    "    T = np.divide(T, nplusm - 1, out=np.zeros(T.shape), where=(nplusm - 1)!=0)\n",
    "    T *= (-1)**nplusm + 1\n",
    "\n",
    "    V = (0.5*L)**(nplusm + p + 5) * 8*a/((nplusm + p + 5)*(nplusm + p + 3)*(nplusm + p + 1))\n",
    "    V *= (-1)**(nplusm + p) + 1\n",
    "\n",
    "    return T + V, S"
   ]
  },
  {
   "cell_type": "markdown",
   "metadata": {},
   "source": [
    "Vervolgens vergelijken we de variationele oplossing van de oneindig diepe potentiaalput met de exacte analytische oplossing:\n",
    "\\begin{align}\n",
    "     E_n^{(0)} & = \\frac{\\hbar^2}{2 m} \\, \\frac{n^2 \\pi^2}{L^2} \\\\\n",
    "    \\psi_n^{(0)}(x) & = \\sqrt{\\frac{2}{L}} \\sin \\left(\\frac{n \\pi x}{L}\\right) && \\qquad \\text{$n$ even} \\label{oef3_psi} \\\\\n",
    "    \\psi_n^{(0)}(x) & = \\sqrt{\\frac{2}{L}} \\cos \\left(\\frac{n \\pi x}{L}\\right) && \\qquad \\text{$n$ oneven} \n",
    "\\end{align}\n",
    "\n",
    "De functie `eigh` kan gebruikt worden om het veralgemeende eigenwaardeprobleem op te lossen."
   ]
  },
  {
   "cell_type": "code",
   "execution_count": null,
   "metadata": {},
   "outputs": [],
   "source": [
    "# Variationele oplossing\n",
    "Nmax = 20\n",
    "L = 1.\n",
    "\n",
    "energy = np.zeros((Nmax, Nmax))\n",
    "for N in np.arange(1, Nmax+1):\n",
    "    H, S = calc_matrices(N, L=L, a=0.)\n",
    "    E, C = eigh(H, S)\n",
    "    energy[N-1, :N] = E\n",
    "    \n",
    "# Exacte oplossing\n",
    "kn = np.arange(1, Nmax+1)*np.pi/L\n",
    "E_exact = kn**2/2\n",
    "\n",
    "x = np.arange(-L/2, L/2 + 0.01, 0.01)\n",
    "\n",
    "psi = np.zeros((N, len(x)))\n",
    "psi[0::2, :] = np.sqrt(2/L) * np.cos(np.expand_dims(kn[0::2], axis=1)*x)\n",
    "psi[1::2, :] = np.sqrt(2/L) * np.sin(np.expand_dims(kn[1::2], axis=1)*x)"
   ]
  },
  {
   "cell_type": "code",
   "execution_count": null,
   "metadata": {},
   "outputs": [],
   "source": [
    "# Plot convergentie energieniveaus\n",
    "for n in np.arange(min(8, Nmax+1)):\n",
    "    pl.plot(np.arange(n, Nmax) + 1, (energy[n:,n]-E_exact[n])/kjmol, 'o--', label='$E_{{{}}}$'.format(n+1))\n",
    "\n",
    "pl.xlabel('$N$')\n",
    "pl.ylabel('$\\\\varepsilon_n - E_{n,\\ exact}$ (kJ/mol)')\n",
    "pl.xticks(np.arange(0, Nmax+1))\n",
    "pl.ylim([-0.05, 5.0])\n",
    "pl.legend()\n",
    "pl.title('Oneindig diepe potentiaalput')\n",
    "pl.show()"
   ]
  },
  {
   "cell_type": "code",
   "execution_count": null,
   "metadata": {},
   "outputs": [],
   "source": [
    "# Plot golffuncties\n",
    "for i in range(N):\n",
    "\n",
    "    psi_var = np.dot(C[:, i], (x**2 - 0.25*L**2) * x**np.expand_dims(np.arange(0, N), axis=1))\n",
    "    sign_corr = np.sign(psi[i, int(psi.shape[1]/2.5)]/psi_var[int(psi.shape[1]/2.5)])\n",
    "    \n",
    "    pl.plot(x, psi[i, :], label='Variationeel')\n",
    "    pl.plot(x, sign_corr*psi_var, '--', label='Analytisch')\n",
    "    pl.title('$n =$ {}, $\\Delta E =$ {:.3f} kJ/mol'.format(i+1, (E-E_exact)[i]/kjmol))\n",
    "    pl.legend()\n",
    "    pl.show()"
   ]
  },
  {
   "cell_type": "markdown",
   "metadata": {},
   "source": [
    "Tot slot vergelijken we ook de resultaten van het computationele variationeel principe voor de golffunctie\n",
    "\\begin{equation}\n",
    "    \\psi(x) = \\sum_{n=0}^{N-1} C_n \\,x^n \\left( x^2 - \\frac{L^2}{4} \\right),\n",
    "\\end{equation}\n",
    "\n",
    "met de variationele resultaten uit Oefening 4, waarbij gebruik werd gemaakt van de volgende golffunctie:\n",
    "\\begin{equation}\n",
    "    \\psi_{\\text{oef. 4}}(x) = \\psi_1^{(0)}(x) \\, \\cos \\theta + \\psi_2^{(0)}(x) \\, \\sin \\theta.\n",
    "\\end{equation}"
   ]
  },
  {
   "cell_type": "code",
   "execution_count": null,
   "metadata": {},
   "outputs": [],
   "source": [
    "# Oplossing oefening 4\n",
    "e = 0.5*(np.pi/L)**2\n",
    "v = 16*L/(9*np.pi**2)\n",
    "E_oef4 = e*(2.5 - 1.5*np.sqrt(1 + 4*v**2/(9*e**2)))\n",
    "\n",
    "# Variationele oplossing\n",
    "Nmax = 10\n",
    "E0 = np.zeros(Nmax)\n",
    "for N in np.arange(1, Nmax+1):\n",
    "    H, S = calc_matrices(N, L=L, a=1., p=1)\n",
    "    E, C = eigh(H, S)\n",
    "    E0[N-1] = E[0]\n",
    "\n",
    "pl.plot(np.arange(Nmax) + 1, (E0-E_oef4)/kjmol, 'o--')\n",
    "pl.xlabel('$N$')\n",
    "pl.ylabel('$\\\\varepsilon_0 - E_{0, oef.\\ 4}}$ (kJ/mol)')\n",
    "pl.ylim([-0.05, 1.05])\n",
    "pl.show()"
   ]
  },
  {
   "cell_type": "code",
   "execution_count": null,
   "metadata": {},
   "outputs": [],
   "source": []
  }
 ],
 "metadata": {
  "kernelspec": {
   "display_name": "Python 3",
   "language": "python",
   "name": "python3"
  },
  "language_info": {
   "codemirror_mode": {
    "name": "ipython",
    "version": 3
   },
   "file_extension": ".py",
   "mimetype": "text/x-python",
   "name": "python",
   "nbconvert_exporter": "python",
   "pygments_lexer": "ipython3",
   "version": "3.5.2"
  }
 },
 "nbformat": 4,
 "nbformat_minor": 2
}
