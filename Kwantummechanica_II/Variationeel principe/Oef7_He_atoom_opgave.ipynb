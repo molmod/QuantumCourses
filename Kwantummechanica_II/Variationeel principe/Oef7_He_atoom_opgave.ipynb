{
 "cells": [
  {
   "cell_type": "markdown",
   "metadata": {},
   "source": [
    "$$\n",
    "\\newcommand{\\vect}[1]{\\boldsymbol{#1}}\n",
    "\\newcommand{\\Nabla}{\\vect{\\nabla}}\n",
    "\\renewcommand{\\d}[1]{\\mathrm{d} #1 \\,}\n",
    "\\newcommand{\\dern}[3]{\\frac{\\mathrm{d}^{#3} #1}{\\mathrm{d} #2^{#3}}}\n",
    "\\newcommand{\\bra}[1]{\\left\\langle{#1}\\right|}\n",
    "\\newcommand{\\ket}[1]{\\left|{#1}\\right\\rangle}\n",
    "\\newcommand{\\braket}[1]{\\left\\langle{#1}\\right\\rangle}\n",
    "$$\n",
    "\n",
    "# Variationeel principe: He-atoom\n",
    "\n",
    "## Opgave\n",
    "\n",
    "Op analoge manier als voor het H-atoom, kan ook de grondtoestand van het heliumatoom bepaald worden via het lineair variationeel principe. Aangezien elektronen fermionen zijn, dient de golffunctie $\\Psi(\\vect{x}_1, \\vect{x}_2) = \\Psi(\\vect{r}_1, \\sigma_1; \\vect{r}_2, \\sigma\t_2)$ echter antisymmetrisch te zijn in de coördinaten $\\vect{x}_i = (\\vect{r}_i, \\sigma_i)$, zodat $\\Psi(\\vect{x}_1, \\vect{x}_2) = -\\Psi(\\vect{x}_2, \\vect{x}_1)$. In de heliumgrondtoestand bevinden de twee elektronen zich in de eigentoestand met de laagste energie, zodat de ruimtelijke golffunctie symmetrisch is en de spingolffunctie bijgevolg antisymmetrisch (singlet toestand $S = 0$). Als variationele (ruimtelijke) golffunctie kiezen we daarom\t\n",
    "\\begin{equation}\n",
    "    \\psi(\\vect{r}_1, \\vect{r}_2) = \\sum_{m=0}^{N-1} \\sum_{n=m}^{N-1} C_{m(N-1) - \\frac{m (m-1)}{2} + n} \\; \\left[ e^{- (\\alpha_m r_1^2 + \\alpha_n r_2^2)} + e^{- (\\alpha_n r_1^2 + \\alpha_m r_2^2)} \\right].\n",
    "\\end{equation}\n",
    "\n",
    "Bereken voor deze golffunctie de variationele grondtoestandsenergie en vergelijk met de experimentele grondtoestandsenergie ($E_{exp}$ = -2.903386 Ha). Gebruik voor de parameters $\\alpha_n$ de volgende waarden:\n",
    "\\begin{equation}\n",
    "    \\vect{\\alpha} = [0.298073, 1.242567, 5.782948, 38.474970].\n",
    "\\end{equation}"
   ]
  },
  {
   "cell_type": "markdown",
   "metadata": {},
   "source": [
    "## Oplossing\n",
    "\n",
    "Implementeer eerst een functie `calc_matrices` die de matrices $H$ en $S$ genereert, gebruik makend van de volgende matrixelementen:\n",
    "    \n",
    "\\begin{align}\n",
    "    S_{mn} & = \\int \\d{\\vect{r}} e^{-\\alpha_m r^2} e^{-\\alpha_n r^2} = \\left( \\frac{\\pi}{\\alpha_m + \\alpha_n} \\right)^{\\frac{3}{2}} \\\\\n",
    "    T_{mn} & = -\\frac{1}{2} \\int \\d{\\vect{r}} e^{-\\alpha_m r^2} \\; \\Nabla^2 e^{-\\alpha_n r^2} = \\frac{3 \\, \\alpha_m \\alpha_n \\, \\pi^{\\frac{3}{2}}}{(\\alpha_m + \\alpha_n)^{\\frac{5}{2}}} \\\\\n",
    "    V_{mn} & = - \\int \\d{\\vect{r}} e^{-\\alpha_m r^2} \\; \\frac{Z}{r} \\; e^{-\\alpha_n r^2} = - \\frac{2 \\pi \\, Z}{\\alpha_m + \\alpha_n} \\\\\n",
    "    Q_{klmn} & = \\int \\d{\\vect{r}_1} \\d{\\vect{r}_2} e^{- (\\alpha_k r_1^2 + \\alpha_l r_2^2)} \\; \\frac{1}{|\\vect{r}_1 - \\vect{r}_2|} \\; e^{- (\\alpha_m r_1^2 + \\alpha_n r_2^2)} \\nonumber \\\\ & = \\frac{2 \\pi^{\\frac{5}{2}}}{(\\alpha_k + \\alpha_m) (\\alpha_l + \\alpha_n) \\sqrt{\\alpha_k + \\alpha_l + \\alpha_m + \\alpha_n}}\n",
    "\\end{align}   "
   ]
  },
  {
   "cell_type": "code",
   "execution_count": null,
   "metadata": {},
   "outputs": [],
   "source": [
    "import numpy as np\n",
    "from scipy.linalg import eigh\n",
    "import matplotlib.pyplot as pl\n",
    "from mpl_toolkits.mplot3d import Axes3D\n",
    "\n",
    "# Conversiefactoren atomaire eenheden\n",
    "kjmol = 0.0003808799176039228\n",
    "electronvolt = 0.036749325919680595\n",
    "\n",
    "def calc_matrices(alpha, beta, Z=2.):\n",
    "    #TODO"
   ]
  },
  {
   "cell_type": "markdown",
   "metadata": {},
   "source": [
    "Bereken vervolgens de variationele energieën en de coëfficiënten $C_n$ door het veralgemeende eigenwaardeprobleem $H C = \\varepsilon  \\, S C$ op te lossen. Hiervoor kan je gebruik maken van de functie `eigh`."
   ]
  },
  {
   "cell_type": "code",
   "execution_count": null,
   "metadata": {},
   "outputs": [],
   "source": [
    "alpha = np.array([0.298073, 1.242567, 5.782948, 38.474970])\n",
    "\n",
    "alphas, betas = np.meshgrid(alpha, alpha)\n",
    "alphas, betas = alphas[np.triu_indices(len(alpha))].flatten(), betas[np.triu_indices(len(alpha))].flatten()"
   ]
  }
 ],
 "metadata": {
  "kernelspec": {
   "display_name": "Python 3",
   "language": "python",
   "name": "python3"
  },
  "language_info": {
   "codemirror_mode": {
    "name": "ipython",
    "version": 3
   },
   "file_extension": ".py",
   "mimetype": "text/x-python",
   "name": "python",
   "nbconvert_exporter": "python",
   "pygments_lexer": "ipython3",
   "version": "3.5.2"
  }
 },
 "nbformat": 4,
 "nbformat_minor": 2
}
