{
 "cells": [
  {
   "cell_type": "markdown",
   "metadata": {},
   "source": [
    "# Variationeel principe: oneindig diepe potentiaalput\n",
    "\n",
    "$$\n",
    "\\newcommand{\\ket}[1]{\\left|{#1}\\right\\rangle}\n",
    "\\newcommand{\\bra}[1]{\\left\\langle{#1}\\right|}\n",
    "$$\n",
    "\n",
    "\n",
    "\\begin{equation}\n",
    "    E_n^{(0)} = \\frac{\\hbar^2}{2 m} \\, \\frac{n^2 \\pi^2}{L^2}\n",
    "\\end{equation}\n",
    "\n",
    "\\begin{align}\n",
    "    \\psi_n^{(0)}(x) = \\sqrt{\\frac{2}{L}} \\sin \\left(\\frac{n \\pi x}{L}\\right) & \\qquad \\text{$n$ even} \\label{oef3_psi} \\\\\n",
    "    \\psi_n^{(0)}(x) = \\sqrt{\\frac{2}{L}} \\cos \\left(\\frac{n \\pi x}{L}\\right) & \\qquad \\text{$n$ oneven} \n",
    "\\end{align}"
   ]
  },
  {
   "cell_type": "code",
   "execution_count": null,
   "metadata": {},
   "outputs": [],
   "source": [
    "import numpy as np\n",
    "from scipy.linalg import eigh\n",
    "\n",
    "%matplotlib inline\n",
    "\n",
    "def calc_matrices(N=5, L=1., a=1., p=None):\n",
    "    \n",
    "    n = np.arange(0, N)\n",
    "    nplusm = n + np.expand_dims(n, axis=1)\n",
    "\n",
    "    S = (0.5*L)**(nplusm + 5) * 8/((nplusm + 5)*(nplusm + 3)*(nplusm + 1))\n",
    "    S *= (-1)**nplusm + 1\n",
    "    T = -2 * (0.5*L)**(nplusm + 3) * (1 - nplusm - 2*n*np.expand_dims(n, axis=1))/((nplusm + 3)*(nplusm + 1))\n",
    "    T = np.divide(T, nplusm - 1, out=np.zeros(T.shape), where=(nplusm - 1)!=0)\n",
    "    T *= (-1)**nplusm + 1\n",
    "\n",
    "    if p==None:\n",
    "        V = np.zeros(T.shape)\n",
    "\n",
    "    else:\n",
    "        V = (0.5*L)**(nplusm + p + 5) * 8*a/((nplusm + p + 5)*(nplusm + p + 3)*(nplusm + p + 1))\n",
    "        V *= (-1)**(nplusm + p) + 1\n",
    "\n",
    "    return T + V, S"
   ]
  },
  {
   "cell_type": "code",
   "execution_count": null,
   "metadata": {},
   "outputs": [],
   "source": [
    "N = 5\n",
    "L = 1.\n",
    "H, S = calc_matrices(N, L=L)\n",
    "E, C = eigh(H, S)\n",
    "\n",
    "print('Variationele energieën (a.u.):', E)"
   ]
  },
  {
   "cell_type": "code",
   "execution_count": null,
   "metadata": {},
   "outputs": [],
   "source": [
    "# Exacte oplossing\n",
    "kn = np.arange(1, N+1)*np.pi/L\n",
    "E_exact = kn**2/2\n",
    "print('Exacte energieën (a.u.):', E_exact)\n",
    "\n",
    "x = np.arange(-L/2, L/2 + 0.01, 0.01)\n",
    "\n",
    "psi = np.zeros((N, len(x)))\n",
    "psi[0::2, :] = np.sqrt(2/L) * np.cos(np.expand_dims(kn[0::2], axis=1)*x)\n",
    "psi[1::2, :] = np.sqrt(2/L) * np.sin(np.expand_dims(kn[1::2], axis=1)*x)"
   ]
  },
  {
   "cell_type": "code",
   "execution_count": null,
   "metadata": {},
   "outputs": [],
   "source": [
    "# Plot\n",
    "for i in range(N):\n",
    "\n",
    "    psi_var = np.dot(C[:, i], (x**2 - 0.25*L**2) * x**np.expand_dims(np.arange(0, N), axis=1))\n",
    "    sign_corr = np.sign(psi[i, int(psi.shape[1]/2.5)]/psi_var[int(psi.shape[1]/2.5)])\n",
    "    \n",
    "    pl.plot(x, psi[i, :], label='Variationeel')\n",
    "    pl.plot(x, sign_corr*psi_var, '--', label='Analytisch')\n",
    "    pl.title('$n =$ {}, $\\Delta E =$ {:.3f}'.format(i+1, (E-E_exact)[i]))\n",
    "    pl.legend()\n",
    "    pl.show()"
   ]
  },
  {
   "cell_type": "code",
   "execution_count": null,
   "metadata": {},
   "outputs": [],
   "source": []
  }
 ],
 "metadata": {
  "kernelspec": {
   "display_name": "Python 3",
   "language": "python",
   "name": "python3"
  },
  "language_info": {
   "codemirror_mode": {
    "name": "ipython",
    "version": 3
   },
   "file_extension": ".py",
   "mimetype": "text/x-python",
   "name": "python",
   "nbconvert_exporter": "python",
   "pygments_lexer": "ipython3",
   "version": "3.5.2"
  }
 },
 "nbformat": 4,
 "nbformat_minor": 2
}
