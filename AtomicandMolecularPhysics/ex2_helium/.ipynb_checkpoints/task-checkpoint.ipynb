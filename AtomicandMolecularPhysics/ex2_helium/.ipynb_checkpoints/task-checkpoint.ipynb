{
 "cells": [
  {
   "cell_type": "markdown",
   "metadata": {
    "colab_type": "text",
    "id": "250gnu9UI1qs"
   },
   "source": [
    "# Task 2: the helium atom\n",
    "\n",
    "The data provided for this task is very similar to that of the hydrogen atom, except that now the Aug-cc-pVDZ basis and the nuclear charge of the helium atom were used to compute the integrals. Use your hydrogen as a starting point to build a complete Hartree-Fock SCF program. You can assume that the spatial orbital with the lowest energy is occupied with one spin-up (alpha) and one spin-down (beta) electron. However, in you program, it is sufficient to just compute the alpha spatial orbitals because these are exactly the same as those for beta.\n",
    "\n",
    "Your computation should contain the following steps:\n",
    "\n",
    "1. Construct an initial guess for the wavefunction as follows: solve the core Hamiltonian, that is the Hamiltonian that only contains contributions from the kinetic energy and nuclear attraction terms.\n",
    "2. Compute the density matrix of the initial guess for the alpha electrons.\n",
    "3. The SCF Loop (use a \"`while True:`\" loop)\n",
    "    - Construct the Fock matrix for the alpha electrons. This consists of a kinetic energy, nuclear attraction, Hartree and exchange term. Take the correct linear combination of these operators.\n",
    "    - Check if the old orbitals already diagonalize the Fock matrix. Propose a measure to compute the error. If this error drops below a pre-defined threshold, the loop can be interrupted.\n",
    "    - Diagonalize the Fock matrix to obtain a new set of alpha orbitals and alpha orbital energies. Construct a new density matrix\n",
    "4. Compute the Hartree-Fock energy.\n",
    "\n",
    "Some results to check your program (in atomic units):\n",
    "- The lowest orbital energy of the initial guess is: -1.99436423289 Hartree.\n",
    "- The lowest orbital energy of the HF solution is: -0.917123967703 Hartree.\n",
    "- The HF energy is -2.85570466771 Hartree."
   ]
  },
  {
   "cell_type": "code",
   "execution_count": 0,
   "metadata": {
    "colab": {},
    "colab_type": "code",
    "id": "9K5mwFQwIyBM"
   },
   "outputs": [],
   "source": [
    "import numpy as np\n",
    "from scipy.linalg import eigh\n",
    "data = np.load(\"data.npz\")\n",
    "print(list(data.keys()), data['numbers'])"
   ]
  },
  {
   "cell_type": "code",
   "execution_count": 0,
   "metadata": {
    "colab": {},
    "colab_type": "code",
    "id": "jtNHxkN7RNwC"
   },
   "outputs": [],
   "source": [
    "# Put your solution here."
   ]
  }
 ],
 "metadata": {
  "colab": {
   "collapsed_sections": [],
   "name": "task.ipynb",
   "provenance": []
  },
  "kernelspec": {
   "display_name": "Python 3",
   "language": "python",
   "name": "python3"
  },
  "language_info": {
   "codemirror_mode": {
    "name": "ipython",
    "version": 3
   },
   "file_extension": ".py",
   "mimetype": "text/x-python",
   "name": "python",
   "nbconvert_exporter": "python",
   "pygments_lexer": "ipython3",
   "version": "3.6.9"
  }
 },
 "nbformat": 4,
 "nbformat_minor": 1
}
