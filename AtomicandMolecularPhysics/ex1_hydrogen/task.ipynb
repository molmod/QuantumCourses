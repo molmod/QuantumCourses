{
 "cells": [
  {
   "cell_type": "markdown",
   "metadata": {
    "colab_type": "text",
    "id": "QB2YCKQEDD5J"
   },
   "source": [
    "# Task 1: the hydrogen atom\n",
    "\n",
    "The first code cell just imports Numpy and downloads the data. After that, you have to solve the wavefunction of one electron around a hydrogen nucleus. The data file contains all the required integrals computed in the Aug-cc-pVDZ basis.\n",
    "\n",
    "The data file contains the following arrays with values are in atomic units:\n",
    "\n",
    "- `data['oi']`= overlap integrals\n",
    "- `data['ki']`  = kinetic energy integrals\n",
    "- `data['nai']` = nuclear attraction integrals\n",
    "- `data['eri']` = electronic repulsion integrals\n",
    "- `data['coordinates']` = Cartesian coordinates of nuclei\n",
    "- `data['numbers']` = atomic numbers of the nuclei\n",
    "\n",
    "All data files in the following tasks will have the same structure.\n",
    "\n",
    "Don't make your solution too complicated. You can solve this problem with a few lines of code, one to construct the Hamiltonian and one to diagonalize it. It is recommended to add plenty of print statements to make sure you understand what happens, e.g. print the shapes of all the arrays involved.\n",
    "\n",
    "Finally, compare the numerical eigenvalues to the analytical result and explain the deviations.\n",
    "\n",
    "Good luck!"
   ]
  },
  {
   "cell_type": "code",
   "execution_count": 0,
   "metadata": {
    "colab": {},
    "colab_type": "code",
    "id": "H6QbrPtcDAV-"
   },
   "outputs": [],
   "source": [
    "import numpy as np\n",
    "from scipy.linalg import eigh\n",
    "data = np.load(\"data.npz\")\n",
    "print(list(data.keys()), data['numbers'])"
   ]
  },
  {
   "cell_type": "code",
   "execution_count": 0,
   "metadata": {
    "colab": {},
    "colab_type": "code",
    "id": "0nIkWq9fRQk2"
   },
   "outputs": [],
   "source": [
    "# Put your solution here."
   ]
  }
 ],
 "metadata": {
  "colab": {
   "collapsed_sections": [],
   "name": "task.ipynb",
   "provenance": []
  },
  "kernelspec": {
   "display_name": "Python 3",
   "language": "python",
   "name": "python3"
  },
  "language_info": {
   "codemirror_mode": {
    "name": "ipython",
    "version": 3
   },
   "file_extension": ".py",
   "mimetype": "text/x-python",
   "name": "python",
   "nbconvert_exporter": "python",
   "pygments_lexer": "ipython3",
   "version": "3.6.9"
  }
 },
 "nbformat": 4,
 "nbformat_minor": 1
}
