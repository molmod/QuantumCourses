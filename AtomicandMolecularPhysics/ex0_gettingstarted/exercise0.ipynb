{
 "cells": [
  {
   "cell_type": "markdown",
   "metadata": {
    "colab_type": "text",
    "id": "yslqMDaM9zXl"
   },
   "source": [
    "# Exercise 0: Python primer for Hartree-Fock practical session\n",
    "\n",
    "This Python primer explains the most important Python language features used in the practical session on Hartree-Fock. The primer consists of 8 small sections, each containing:\n",
    "\n",
    "1. A short introduction to Python feature X.\n",
    "2. An example showing how feature X works.\n",
    "3. A problem that must be solved by making use of feature X.\n",
    "\n",
    "To figure out how the examples and the problems work, add print statements or make other changes.\n",
    "\n",
    "You can go through the sections in random order but the imports below have to be executed first.\n",
    "\n",
    "**Important:** this notebook is written in Python 3."
   ]
  },
  {
   "cell_type": "code",
   "execution_count": null,
   "metadata": {
    "colab": {},
    "colab_type": "code",
    "id": "jwIFxZki9yei"
   },
   "outputs": [],
   "source": [
    "# Numpy is a library for efficient array operations.\n",
    "import numpy as np\n",
    "\n",
    "# A library with advanced linear algebra routines.\n",
    "import scipy.linalg"
   ]
  },
  {
   "cell_type": "markdown",
   "metadata": {
    "colab_type": "text",
    "id": "CeJR5HGh-88_"
   },
   "source": [
    "## 1. The `assert` statement\n",
    "\n",
    "The assert statement can be used to double check a value in any part of the program. This is useful for debugging and it is also used in this primer to check if your solutions are correct."
   ]
  },
  {
   "cell_type": "code",
   "execution_count": null,
   "metadata": {
    "colab": {},
    "colab_type": "code",
    "id": "vh4wUh_o_KeB"
   },
   "outputs": [],
   "source": [
    "# EXAMPLE\n",
    "\n",
    "# All following assert statements will pass silently:\n",
    "assert True\n",
    "assert 5 > 3\n",
    "assert 2 + 2 == 4"
   ]
  },
  {
   "cell_type": "code",
   "execution_count": null,
   "metadata": {
    "colab": {},
    "colab_type": "code",
    "id": "FxqPyVn3_OXu"
   },
   "outputs": [],
   "source": [
    "# PROBLEM\n",
    "\n",
    "# The following will cause an error. Fix the assert statement.\n",
    "# In the following sections, the assert statement is usually correct, but the\n",
    "# preceding code must be fixed.\n",
    "tmp = 0\n",
    "for i in 0, 1, 2, 3, 4:\n",
    "    tmp += i\n",
    "assert tmp == 9"
   ]
  },
  {
   "cell_type": "markdown",
   "metadata": {
    "colab_type": "text",
    "id": "xl4oFXub_le4"
   },
   "source": [
    "## 2. Lists\n",
    "\n",
    "A list in python is an ordered collection of objects. Lists can be manipulated in all sorts of ways and can be used as iterators in `for` loops. Unlike Numpy arrays, see below, lists may contain elements of different types."
   ]
  },
  {
   "cell_type": "code",
   "execution_count": null,
   "metadata": {
    "colab": {},
    "colab_type": "code",
    "id": "pzz7Ceo4_rim"
   },
   "outputs": [],
   "source": [
    "# EXAMPLE\n",
    "\n",
    "l = [1, 2, 4, 'aa', 6.77]\n",
    "assert l[0] == 1\n",
    "assert len(l) == 5\n",
    "l.append('boo')\n",
    "assert l[5] == 'boo'\n",
    "assert l[-1] == 'boo'\n",
    "assert len(l) == 6\n",
    "assert l[::2] == [1, 4, 6.77]\n",
    "assert sorted([2, 5, 1]) == [1, 2, 5]\n",
    "assert ['a', 'b']*3 == ['a', 'b', 'a', 'b', 'a', 'b']"
   ]
  },
  {
   "cell_type": "code",
   "execution_count": null,
   "metadata": {
    "colab": {},
    "colab_type": "code",
    "id": "fSdplWnl_xVL"
   },
   "outputs": [],
   "source": [
    "# PROBLEM\n",
    "\n",
    "# Fix the for-loop to construct the list in the assert statement.\n",
    "l = []\n",
    "for i in 0, 1, 2, 3, 4:\n",
    "    l.append(0)  # Fix this.\n",
    "assert l == [[], [1], [2, 2], [3, 3, 3], [4, 4, 4, 4]]"
   ]
  },
  {
   "cell_type": "markdown",
   "metadata": {
    "colab_type": "text",
    "id": "POid_1SW_1-G"
   },
   "source": [
    "## 3. Dictionaries\n",
    "\n",
    "A dictionary is like an array but is more general. The indexes (called keys) can be any immutable object. We will not go into detail about what immutable means in Python. For now, it is sufficient to know that strings, integers, floating point numbers and tuples of immutable objects are immutable. The values associated with the keys can be any object. Different types of keys and values may be used in one dictionary."
   ]
  },
  {
   "cell_type": "code",
   "execution_count": null,
   "metadata": {
    "colab": {},
    "colab_type": "code",
    "id": "5X8M5nXwABCn"
   },
   "outputs": [],
   "source": [
    "# EXAMPLE\n",
    "\n",
    "d = dict()           # An empty dictionary\n",
    "d[1] = 'foo'         # Fill the dictionary with some elements\n",
    "d['bar'] = 2\n",
    "assert d[1] == 'foo'\n",
    "assert d['bar'] == 2\n",
    "assert 1 in d        # With the in operator, one can check the presence of a key\n",
    "assert 5 not in d\n",
    "\n",
    "e = {'egg': 4, 'spam': 5}\n",
    "assert e['egg'] == 4\n",
    "assert 'spam' in e"
   ]
  },
  {
   "cell_type": "code",
   "execution_count": null,
   "metadata": {
    "colab": {},
    "colab_type": "code",
    "id": "v9CQ8IRYAHoz"
   },
   "outputs": [],
   "source": [
    "# PROBLEM\n",
    "\n",
    "# Fix this tiny program that counts the number of occurrences of each item\n",
    "# in the list.\n",
    "l = ['egg', 'egg', 2, 'foo', '4', 4, 2.0, 4, 'egg', 'spam', 2, 2.0, 2, '#!@!!']\n",
    "d = {}\n",
    "for item in l:\n",
    "    if item in d:\n",
    "        d[item] = 1  # Fix this.\n",
    "    else:\n",
    "        d[item] = 0  # Fix this.\n",
    "# Compare the result with the expected result\n",
    "assert d == {'egg': 3, 2: 5, 'foo': 1, '4': 1, 4: 2, 'spam': 1, '#!@!!': 1}"
   ]
  },
  {
   "cell_type": "markdown",
   "metadata": {
    "colab_type": "text",
    "id": "2-2vqDYyAOLU"
   },
   "source": [
    "## 4. The `while` and `break` statements\n",
    "\n",
    "While loops can be used if it is not clear in advance how many iterations are needed for a certain task. The break statement can be used to exit any type of loop (`while` or `for`) at any point in the body of the loop."
   ]
  },
  {
   "cell_type": "code",
   "execution_count": null,
   "metadata": {
    "colab": {},
    "colab_type": "code",
    "id": "LyfkRJNOAfgq"
   },
   "outputs": [],
   "source": [
    "# EXAMPLE\n",
    "\n",
    "# The following code is an abstract example.\n",
    "x = 10.0\n",
    "# The loop repeats as long as x is strictly positive.\n",
    "while x > 0.0:\n",
    "    # Subtract a random number from a normal distribution:\n",
    "    x -= np.random.normal(0, 1)\n",
    "assert x <= 0.0\n",
    "\n",
    "# It is not always desirable to check a stopping condition at the beginning\n",
    "# of each iteration. One may use the break statement to exit the while loop\n",
    "# at any point. The following code is also an abstract example.\n",
    "x = 10.0\n",
    "# The loop repeats as long as x is strictly positive.\n",
    "while x > 0.0:\n",
    "    jump = np.random.normal(0, 1)\n",
    "    # If the change is very negative, interrupt the loop.\n",
    "    if jump < -1.0:\n",
    "        break\n",
    "    x += jump\n",
    "assert jump < -1.0 or x <= 0.0"
   ]
  },
  {
   "cell_type": "code",
   "execution_count": null,
   "metadata": {
    "colab": {},
    "colab_type": "code",
    "id": "3gn7sX2xAl1h"
   },
   "outputs": [],
   "source": [
    "# PROBLEM\n",
    "\n",
    "# Find a numerical solution for cos(x) - x = 0. Use the same strategy as in\n",
    "# the SCF algorithm. In this context, it is known as the fixed point iteration method.\n",
    "x = 0.0\n",
    "for counter in range(500): # equivalent to 'for i in 0, 1, 2, ..., 499:'\n",
    "    x = 1   # fix this\n",
    "assert abs(x - np.cos(x)) < 1e-12"
   ]
  },
  {
   "cell_type": "markdown",
   "metadata": {
    "colab_type": "text",
    "id": "LgKQObu7BE-b"
   },
   "source": [
    "## 5. Numpy arrays\n",
    "\n",
    "An array is like a list with the restriction that all elements have the same type. Most of the time, the type is either integer of floating point. The data can also be organized into rows and columns (i.e. two-dimensional array) to represent a matrix. [Numpy](http://www.numpy.org/) supports an arbitrary number of dimensions, *e.g.*, the Coulomb and exchange integrals are typically stored in a four-dimensional array. Unlike lists, once an array is created, it is not possible to remove or add elements. The number of elements is fixed once the array is created. The main advantage of arrays is the efficiency of numerical operations on these objects, similarly to Matlab and Octave."
   ]
  },
  {
   "cell_type": "code",
   "execution_count": null,
   "metadata": {
    "colab": {},
    "colab_type": "code",
    "id": "753tGs0eBOqd"
   },
   "outputs": [],
   "source": [
    "# EXAMPLE\n",
    "\n",
    "# Create a simple array\n",
    "a = np.array([0.0, 2.0, 3.0, 5.0])\n",
    "assert len(a) == 4  # This is similar to lists.\n",
    "a[0] = 1.0          # The contents can be changed.\n",
    "\n",
    "# When comparing two arrays, an array of boolean elements is returned.\n",
    "b = (a == np.array([0.0, 1.0, 3.0, 5.0]))\n",
    "assert not b[0]\n",
    "assert not b[1]\n",
    "assert b[2]\n",
    "assert b[3]\n",
    "\n",
    "# The all and any methods can be used to facilitate the comparison of arrays.\n",
    "assert not b.all()  # Not all elements match in the comparison.\n",
    "assert b.any()      # Some elements do match in the comparison.\n",
    "\n",
    "# Mathematical operation on arrays:\n",
    "# (i)  Very different from lists!\n",
    "# (ii) By default all operations are element-wise.\n",
    "assert (a*2 == np.array([2.0, 4.0, 6.0, 10.0])).all()\n",
    "assert (a*a == np.array([1.0, 4.0, 9.0, 25.0])).all()\n",
    "\n",
    "# Numpy contains most common mathematical  constants and functions.\n",
    "b = np.array([0, np.pi])\n",
    "assert (np.sin(b) < 1e-15).all()\n",
    "assert (np.sin(b) > -1e-15).all()\n",
    "# Numpy functions can also be used with non-arrays (integers and floats).\n",
    "assert np.cos(0) == 1.0\n",
    "\n",
    "# It is also possible to construct (large) arrays with certain initial\n",
    "# values:\n",
    "z = np.zeros(3)\n",
    "assert (z == np.array([0.0, 0.0, 0.0])).all()\n",
    "o = np.ones(3)\n",
    "assert (o == np.array([1.0, 1.0, 1.0])).all()\n",
    "\n",
    "# So far, all arrays represented (row) vectors. One can also construct\n",
    "# arrays that represent matrices:\n",
    "m1 = np.array([[0.0, 1.0], [1.0, 0.0]])\n",
    "assert m1.shape == (2, 2)   # Two rows and two columns.\n",
    "\n",
    "m2 = np.zeros((10, 5))\n",
    "assert m2.shape == (10, 5)  # Ten rows and five columns.\n",
    "assert (m2 == 0.0).all()    # All elements are zero.\n",
    "\n",
    "m3 = np.identity(5)\n",
    "assert m3.shape == (5, 5)\n",
    "for i in range(5):  # equivalent to 'for i in 0, 1, 2, 3, 4:'\n",
    "    for j in range(5):\n",
    "        # Compare the matrix elements with the delta function:\n",
    "        assert m3[i, j] == int(i == j)"
   ]
  },
  {
   "cell_type": "code",
   "execution_count": null,
   "metadata": {
    "colab": {},
    "colab_type": "code",
    "id": "IsAebGdlBTvg"
   },
   "outputs": [],
   "source": [
    "# PROBLEM\n",
    "\n",
    "# Approximate the integral of sin(x) over the interval [0,pi/2] numerically\n",
    "# with the Trapezoidal rule. See:\n",
    "#    http://en.wikipedia.org/wiki/Trapezoidal_rule\n",
    "\n",
    "# linspace(start, end, number) returns a NumPy array of *number* evenly spaced numbers \n",
    "# over the closed interval [start,end]\n",
    "x = np.linspace(0.0, 0.5*np.pi, 200) \n",
    "y = np.sin(x)\n",
    "# y *= ...       Fix this!\n",
    "# y[...] *= ...  Fix this!\n",
    "# y[...] *= ...  Fix this!\n",
    "integral = y.sum()\n",
    "assert abs(integral - 1.0) < 1e-4"
   ]
  },
  {
   "cell_type": "markdown",
   "metadata": {
    "colab_type": "text",
    "id": "NLuIrtzABbxD"
   },
   "source": [
    "## 6. Products of matrices and/or vectors\n",
    "\n",
    "Several types of matrix and/or vector products are needed in a Hartree-Fock program:\n",
    "\n",
    "1. vector-vector\n",
    "2. matrix-vector\n",
    "3. matrix-matrix\n",
    "4. trace of a matrix-matrix product\n",
    "\n",
    "The simples cases can be done with [`np.dot`](https://docs.scipy.org/doc/numpy/reference/generated/numpy.dot.html). In less conventional cases, [`np.einsum`](https://docs.scipy.org/doc/numpy/reference/generated/numpy.einsum.html) becomes useful."
   ]
  },
  {
   "cell_type": "code",
   "execution_count": null,
   "metadata": {
    "colab": {},
    "colab_type": "code",
    "id": "y4FO3eA1CEhW"
   },
   "outputs": [],
   "source": [
    "# EXAMPLE\n",
    "\n",
    "# (1) vector-vector\n",
    "a = np.array([1.0, 2.0, 3.0])\n",
    "b = np.array([2.0, 1.0, 0.0])\n",
    "assert np.dot(a, b) == 4.0\n",
    "assert np.einsum('i,i', a, b) == 4.0\n",
    "# Note that a and b are two one-dimensional arrays. Without further\n",
    "# specifications, it is not clear whether these are row or column vectors.\n",
    "# The dot product will try to do something useful, it treats `a` as a row\n",
    "# vector and `b` as a column vector.\n",
    "\n",
    "# (2) matrix-vector\n",
    "a = np.array([[0.0, 1.0], [1.0, 0.0]])\n",
    "b = np.array([4.0, 5.0])\n",
    "assert (np.dot(a, b) == np.array([5.0, 4.0])).all()\n",
    "assert (np.dot(b, a) == np.array([5.0, 4.0])).all()\n",
    "assert (np.einsum('ij,j->i', a, b) == np.array([5.0, 4.0])).all()\n",
    "# Again, b is treated as a row or a column vector, depending on the\n",
    "# situation. One may explicitly construct row and column vectors as two-\n",
    "# dimensional arrays with just one column or row, respectively:\n",
    "a = np.array([[1.0, 2.0, 3.0]])      # row\n",
    "b = np.array([[2.0], [1.0], [0.0]])  # column\n",
    "assert np.dot(a, b) == 4.0           # dot product\n",
    "assert np.dot(b, a).shape == (3, 3)  # outer product\n",
    "\n",
    "# (3) matrix-matrix\n",
    "a = np.array([[0.0, 1.0], [1.0, 0.0]])\n",
    "assert (np.dot(a, a) == np.identity(2)).all()\n",
    "assert (np.einsum('ij,jk->ik', a, a) == np.identity(2)).all()\n",
    "\n",
    "# (4) trace of a matrix-matrix product.\n",
    "# Two 4x4 matrices with random matrix elements sampled from a uniform\n",
    "# distribution on the range [-1,1].\n",
    "a = np.random.uniform(-1, 1, (4, 4))\n",
    "b = np.random.uniform(-1, 1, (4, 4))\n",
    "\n",
    "# This is the intuitive implementation. It is not efficient because all the\n",
    "# matrix elements of the product are computed and only the diagonal ones\n",
    "# are used.\n",
    "t1 = np.trace(np.dot(a, b))\n",
    "# More efficient with np.einsum\n",
    "t2 = np.einsum('ij,ji', a, b)\n",
    "assert abs(t1 - t2) < 1e-14  # Same result, except for numerical noise."
   ]
  },
  {
   "cell_type": "code",
   "execution_count": null,
   "metadata": {
    "colab": {},
    "colab_type": "code",
    "id": "sMKa2pXXCKJv"
   },
   "outputs": [],
   "source": [
    "# PROBLEM\n",
    "\n",
    "# Confirm that the sixth power of the following matrix is the identity matrix\n",
    "a = np.array([\n",
    "    [0, 1, 0, 0, 0],\n",
    "    [1, 0, 0, 0, 0],\n",
    "    [0, 0, 0, 1, 0],\n",
    "    [0, 0, 0, 0, 1],\n",
    "    [0, 0, 1, 0, 0]])\n",
    "\n",
    "tmp = np.dot(a, a)\n",
    "# TODO: add some more lines to compute the sixth power.\n",
    "assert (tmp == np.identity(5)).all()"
   ]
  },
  {
   "cell_type": "markdown",
   "metadata": {
    "colab_type": "text",
    "id": "V0wPhk1iCSi6"
   },
   "source": [
    "## 7. Contractions with four-index objects\n",
    "\n",
    "Arrays with more than two dimensions are also needed in the Hartree-Fock program. These will be used to represent the ERIs. Contractions, i.e. generalized matrix products, can be done with the [`np.tensordot`](https://docs.scipy.org/doc/numpy/reference/generated/numpy.tensordot.html) or [`np.einsum`](https://docs.scipy.org/doc/numpy/reference/generated/numpy.einsum.html) function. The `tensordot` function is usually faster but consumes more memory than `einsum`."
   ]
  },
  {
   "cell_type": "code",
   "execution_count": null,
   "metadata": {
    "colab": {},
    "colab_type": "code",
    "id": "JRbV162OcSWt"
   },
   "outputs": [],
   "source": [
    "# EXAMPLE\n",
    "\n",
    "# Load the arrays with matrix elements for hydrogen with the Aug-cc-pVDZ\n",
    "# basis from data.npz\n",
    "data = np.load(\"data.npz\")\n",
    "\n",
    "# the eri matrix (containing the coulomb and exchange contributions)\n",
    "eri = data['eri']\n",
    "assert eri.shape == (9, 9, 9, 9)  # A four-dimensional array!\n",
    "\n",
    "# A fake (random) density matrix:\n",
    "dm = np.random.uniform(0, 1, (9, 9))\n",
    "# We'll make it symmetric, but the eigenvalues are not going to be 0 or 1.\n",
    "# (This is just a simple example.)\n",
    "dm = (dm + dm.T)/2\n",
    "\n",
    "# The following computes a Coulomb operator with np.einsum.\n",
    "coulomb1 = np.einsum('km,klmn->nl', dm, eri)\n",
    "\n",
    "# The following computes a Coulomb operator with np.tensordot.\n",
    "coulomb2 = np.tensordot(dm, eri, ([[0, 1], [0, 2]]))\n",
    "# The argument `([0, 1], [0, 2])` defines the contraction. It means that\n",
    "#  * index 0 of `dm` is contracted with index 0 of `eri`\n",
    "#  * index 1 of `dm` is contracted with index 2 of `eri`\n",
    "# Compared to coulomb1, the indices in coulomb2 are swapped. However, for\n",
    "# the comparison below this is fine because the matrices are symmetric.\n",
    "\n",
    "# Check whether both arrays are practically identical.\n",
    "assert abs(hartree1 - hartree2).max() < 1e-10"
   ]
  },
  {
   "cell_type": "code",
   "execution_count": null,
   "metadata": {
    "colab": {},
    "colab_type": "code",
    "id": "TdX_x5zCdOh5"
   },
   "outputs": [],
   "source": [
    "# PROBLEM\n",
    "\n",
    "# Repeat the example, but compute the Exchange matrix instead.\n",
    "assert False  # Remove this line."
   ]
  },
  {
   "cell_type": "markdown",
   "metadata": {
    "colab_type": "text",
    "id": "LwWiKLePgrTb"
   },
   "source": [
    "## 8. Generalized eigenvalue problems (See section 3.3 Thijssen)\n",
    "\n",
    "The Numpy library contains an ordinary eigenvalue solver: [`np.linalg.eigh`](https://docs.scipy.org/doc/numpy/reference/generated/numpy.linalg.eigh.html). The Scipy library contains a generalized eigenvalue solver: [`scipy.linalg.eigh`](https://docs.scipy.org/doc/scipy/reference/generated/scipy.linalg.eigh.html).\n",
    "\n",
    "The `h` in `eigh` stands for Hermitian. Do not use the function `eig` without `h` unless you know for sure the matrix to be diagonalized is *not* Hermitian. Hint: in this course, that should never be the case, so always use `eigh` for now."
   ]
  },
  {
   "cell_type": "code",
   "execution_count": null,
   "metadata": {
    "colab": {},
    "colab_type": "code",
    "id": "9yB4O8lxhMG3"
   },
   "outputs": [],
   "source": [
    "# EXAMPLE\n",
    "\n",
    "# Start with a symmetric (10x10) matrix ...\n",
    "f = np.random.normal(0, 1, (10, 10))\n",
    "f = (f + f.T)/2\n",
    "# ... and a symmetric positive definite (10x10) matrix:\n",
    "s = np.random.normal(0, 1, (10, 10))\n",
    "s = np.dot(s, s.T) + 0.1*np.identity(10)\n",
    "\n",
    "# Use the generalized eigensolver from scipy to solve: F C = S C e.\n",
    "e, c = scipy.linalg.eigh(f, s)\n",
    "assert e.shape == (10,)\n",
    "assert c.shape == (10, 10)\n",
    "\n",
    "# Check the orthogonality.\n",
    "errors = np.dot(c.T, np.dot(s, c)) - np.identity(10)\n",
    "assert abs(errors).max() < 1e-10\n",
    "\n",
    "# Check the decomposition.\n",
    "# The function `np.diag` constructs a diagonal matrix from an array of\n",
    "# diagonal elements.\n",
    "errors = np.dot(f, c) - np.dot(np.dot(s, c), np.diag(e))\n",
    "assert abs(errors).max() < 1e-10\n",
    "# One may avoid the construction of the diagonal matrix (for efficiency\n",
    "# reasons) as follows:\n",
    "errors = np.dot(f, c) - np.dot(s, c)*e\n",
    "assert abs(errors).max() < 1e-10\n",
    "# When a 2D array is multiplied by a 1D array, each row of the 2D array is\n",
    "# multiplied element-wise by the 1D array. This principle is called\n",
    "# broadcasting. In this case, it leads to the desired effect."
   ]
  },
  {
   "cell_type": "code",
   "execution_count": null,
   "metadata": {
    "colab": {},
    "colab_type": "code",
    "id": "3ZJ5RbmChTl-"
   },
   "outputs": [],
   "source": [
    "# PROBLEM\n",
    "\n",
    "# Use the ordinary eigensolver from Numpy to obtain the same result. This\n",
    "# requires two calls to the ordinary eigensolver:\n",
    "#    1) One to transform the problem to an orthogonal basis, in which `s`\n",
    "#       becomes the identity matrix.\n",
    "#    2) Another one to solve the actual eigenproblem.\n",
    "\n",
    "# Start with a symmetric (10x10) matrix ...\n",
    "f = np.random.normal(0, 1, (10, 10))\n",
    "f = (f + f.T)/2\n",
    "# ... and a symmetric positive definite (10x10) matrix:\n",
    "s = np.random.normal(0, 1, (10, 10))\n",
    "s = np.dot(s, s.T) + 0.1*np.identity(10)\n",
    "\n",
    "# Your code comes here. Use the same variable names for eigenvalues (e)\n",
    "# and eigenvectors (c) as in the above example.\n",
    "\n",
    "# Check the orthogonality.\n",
    "errors = np.dot(c.T, np.dot(s, c)) - np.identity(10)\n",
    "assert abs(errors).max() < 1e-10\n",
    "\n",
    "# Check the decomposition.\n",
    "# The function `np.diag` constructs a diagonal matrix from an array of\n",
    "# diagonal elements.\n",
    "errors = np.dot(f, c) - np.dot(np.dot(s, c), np.diag(e))\n",
    "assert abs(errors).max() < 1e-10\n",
    "# One may avoid the construction of the diagonal matrix (for efficiency\n",
    "# reasons) as follows:\n",
    "errors = np.dot(f, c) - np.dot(s, c)*e\n",
    "assert abs(errors).max() < 1e-10\n",
    "# When a 2D array is multiplied by a 1D array, each row of the 2D array is\n",
    "# multiplied element-wise by the 1D array. This principle is called\n",
    "# broadcasting. In this case, it leads to the desired effect."
   ]
  },
  {
   "cell_type": "markdown",
   "metadata": {
    "colab_type": "text",
    "id": "AOmBkyMphlSU"
   },
   "source": [
    "Congrats! You made it!"
   ]
  }
 ],
 "metadata": {
  "colab": {
   "collapsed_sections": [],
   "name": "task.ipynb",
   "provenance": []
  },
  "kernelspec": {
   "display_name": "Python 3",
   "language": "python",
   "name": "python3"
  },
  "language_info": {
   "codemirror_mode": {
    "name": "ipython",
    "version": 3
   },
   "file_extension": ".py",
   "mimetype": "text/x-python",
   "name": "python",
   "nbconvert_exporter": "python",
   "pygments_lexer": "ipython3",
   "version": "3.6.9"
  }
 },
 "nbformat": 4,
 "nbformat_minor": 1
}
