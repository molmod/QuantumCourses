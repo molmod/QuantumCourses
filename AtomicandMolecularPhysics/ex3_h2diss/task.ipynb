{
 "cells": [
  {
   "cell_type": "markdown",
   "metadata": {
    "colab_type": "text",
    "id": "73l_0DrjOnlM"
   },
   "source": [
    "# Task 3: hydrogen molecule dissociation\n",
    "\n",
    "compared to the previous tasks, this one involves a series of data files, each for a different internuclear separation between two protons. Within each data file, you will find the same arrays as in the first two tasks. Solve the following two tasks\n",
    "\n",
    "1. Copy and modify the Helium program (with an additional outer loop) to compute the total energy as a function of the H-H distance. The coordinates of the atoms are stored in the array `data['coordinates']`.\n",
    "\n",
    "2. Copy the code from point one to a new code cell and modify it to compute the unrestricted open-shell Hartree-Fock energy for the case that the two electrons have the same spin and occupy the two lowest spatial orbitals. This is a special case of UHF because there are only alpha electrons and no beta electrons. It is sufficient to construct only the alpha orbitals.\n",
    "\n",
    "Collect the results of both programs in one nice plot. (Matplotlib integration in the notebook is enabled by default. More details can be found [here](https://colab.research.google.com/notebooks/charts.ipynb).)"
   ]
  },
  {
   "cell_type": "code",
   "execution_count": 0,
   "metadata": {
    "colab": {},
    "colab_type": "code",
    "id": "bR3-CtevOmss"
   },
   "outputs": [],
   "source": [
    "import numpy as np\n",
    "from scipy.linalg import eigh\n",
    "import matplotlib.pyplot as plt\n",
    "import zipfile\n",
    "\n",
    "# Unzip to get all the data files\n",
    "with zipfile.ZipFile(\"data_all.zip\", 'r') as f:\n",
    "    f.extractall(\".\")\n",
    "\n",
    "# Simple example of loop over all files\n",
    "for i in range(38):\n",
    "    data = np.load(\"data_{:03d}.npz\".format(i))\n",
    "    print(i, list(data.keys()), data['numbers'])"
   ]
  },
  {
   "cell_type": "code",
   "execution_count": 0,
   "metadata": {
    "colab": {},
    "colab_type": "code",
    "id": "CYadBD1-REEy"
   },
   "outputs": [],
   "source": [
    "# Put your RHF program here."
   ]
  },
  {
   "cell_type": "code",
   "execution_count": 0,
   "metadata": {
    "colab": {},
    "colab_type": "code",
    "id": "53gtLvodRGIB"
   },
   "outputs": [],
   "source": [
    "# Put your UHF program here."
   ]
  },
  {
   "cell_type": "code",
   "execution_count": 0,
   "metadata": {
    "colab": {},
    "colab_type": "code",
    "id": "DOk5zLN6RH3c"
   },
   "outputs": [],
   "source": [
    "# Put your MatPlotLib code here."
   ]
  }
 ],
 "metadata": {
  "colab": {
   "collapsed_sections": [],
   "name": "task.ipynb",
   "provenance": []
  },
  "kernelspec": {
   "display_name": "Python 3",
   "language": "python",
   "name": "python3"
  },
  "language_info": {
   "codemirror_mode": {
    "name": "ipython",
    "version": 3
   },
   "file_extension": ".py",
   "mimetype": "text/x-python",
   "name": "python",
   "nbconvert_exporter": "python",
   "pygments_lexer": "ipython3",
   "version": "3.6.9"
  }
 },
 "nbformat": 4,
 "nbformat_minor": 1
}
